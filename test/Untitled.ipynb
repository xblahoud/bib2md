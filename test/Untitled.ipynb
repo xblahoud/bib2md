{
 "cells": [
  {
   "cell_type": "code",
   "execution_count": 16,
   "metadata": {},
   "outputs": [],
   "source": [
    "import tempfile as tf\n",
    "import re\n",
    "import shutil\n",
    "import os"
   ]
  },
  {
   "cell_type": "code",
   "execution_count": 17,
   "metadata": {},
   "outputs": [],
   "source": [
    "from bib2md import md2tex"
   ]
  },
  {
   "cell_type": "code",
   "execution_count": 18,
   "metadata": {},
   "outputs": [],
   "source": [
    "tf.tempdir = '.'\n",
    "build_dir_h = tf.TemporaryDirectory(prefix='b2md_')\n",
    "build_dir = build_dir_h.name\n",
    "tf.tempdir = build_dir"
   ]
  },
  {
   "cell_type": "code",
   "execution_count": 19,
   "metadata": {},
   "outputs": [],
   "source": [
    "infile = 'test_mdcite.md'\n",
    "bibliography = ['mypub.bib']\n",
    "infile = open(infile,'r')"
   ]
  },
  {
   "cell_type": "code",
   "execution_count": 20,
   "metadata": {},
   "outputs": [],
   "source": [
    "def is_local(path):\n",
    "    '''Decides whether given argument is installed or local.\n",
    "    \n",
    "    Returns a pair (local, last) where local is the boolean\n",
    "    answer and last is the last part of the path (e.g filename).'''\n",
    "    local = False\n",
    "    if path.startswith('.') or path.startswith('/'):\n",
    "        local = True\n",
    "    last = path.split('/')[-1]\n",
    "    return local, last"
   ]
  },
  {
   "cell_type": "code",
   "execution_count": 49,
   "metadata": {},
   "outputs": [],
   "source": [
    "def extract_cite_cmds(infile):\n",
    "    '''searches `infile` for TeX cite commands and returns\n",
    "    set of triples `(full_cmd, cite type, cite key)`\n",
    "    '''\n",
    "    infile.seek(0)\n",
    "    content = infile.read()\n",
    "    # locate each citation record and store them in a set of tuples:\n",
    "    # (full string, cite command, key)\n",
    "    p = re.compile(r'(\\\\([a-z]*cite)\\{([^}]+)\\})')\n",
    "    m = p.findall(content)\n",
    "    return set(m)\n",
    "\n",
    "def generete_tex(cites, build_dir, bibliography,\n",
    "                 print_biblio=True, bib_style='md',\n",
    "                 template='bib2md.latex',verbose=False):\n",
    "    '''Generate texfiles for conversion to md for each cite.\n",
    "    \n",
    "    For each cite in `cites`, generate the corresponding TeX file\n",
    "    `build_dir/type.key.tex` that contains the full_cmd of the cite\n",
    "    using the specified Pandoc `template`.\n",
    "    \n",
    "    Parameters\n",
    "    ==========\n",
    "    `bibliography` : list of Strings\n",
    "        filenames with bibliography entries to be used\n",
    "        in the further processing.\n",
    "    `bib_style`: String\n",
    "        name of biblatex style\n",
    "    '''\n",
    "    if build_dir is None:\n",
    "        build_dir = '.'\n",
    "    # create files for each different citation record\n",
    "    for cmd, cite, key in cites:\n",
    "        inname = '{}/{}.{}.source.md'.format(build_dir,cite,key)\n",
    "        texname = '{}/{}.{}.tex'.format(build_dir,cite,key)\n",
    "        result = '{}/{}.{}.md'.format(build_dir,cite,key)\n",
    "        with open(inname,'w') as md_f:\n",
    "            print(cmd,file=md_f)\n",
    "        md2tex(inname,bibliography,\n",
    "               out_file=texname,print_biblio=False)\n",
    "        \n",
    "def prepare_build_dir(build_dir, bibliography, cites, bib_style='md', \n",
    "                      template='bib2md.latex', \n",
    "                      htlatex_cfg='./md.cfg'): ## TODO Update this to install location!\n",
    "    '''Copies the necessary files into `build_dir`.'''\n",
    "    for b in bibliography:\n",
    "        shutil.copy(b, build_dir)\n",
    "    if is_local(bib_style)[0]:\n",
    "        shutil.copy(bib_style+'.bbx',build_dir)\n",
    "        shutil.copy(bib_style+'.cbx',build_dir)\n",
    "        if os.path.exists(bib_style+'.dbx'):\n",
    "            shutil.copy(bib_style+'.dbx',build_dir)\n",
    "    for f in [template, htlatex_cfg]:\n",
    "        if is_local(f):\n",
    "            shutil.copy(f, build_dir)\n",
    "    shutil.copy('Makefile', build_dir)# TODO Generate Makefile using actual names\n",
    "    \n",
    "    ### TODO: Make a function\n",
    "    make_template = '''default: all\n",
    "\n",
    "%.pdf : %.tex {biblio_str} {bib_style}.*bx\n",
    "\txelatex $(patsubst %.pdf,%.tex,$@) \n",
    "\tbiber $(patsubst %.pdf,%,$@) \n",
    "\txelatex $(patsubst %.pdf,%.tex,$@)\n",
    "\n",
    "%.html : %.pdf {htlatex_cfg}\n",
    "\thtxelatex $(patsubst %.html,%.tex,$@) {htlatex_cfg} \" -cunihtf -utf8\"\n",
    "\n",
    "### Removes silly link anchor produced by tex4ht for the firs entry\n",
    "%.md : %.html\n",
    "\tpandoc -f html+tex_math_dollars -t markdown $< | sed 's/\\[\\]{{#page.1}}\\[\\]{{#X0-}}//' > $@\n",
    "\n",
    "clean_mess:\n",
    "\tlatexmk -CA\n",
    "\trm -f *.4* *.bbl *.css *.html *.idv *.lg *.run.xml *.tmp *.xref *.xdv\n",
    "\n",
    "all: {md_files}\n",
    "'''\n",
    "    makefile = make_template.format(\n",
    "        biblio_str=' '.join(pure_biblio),\n",
    "        bib_style=is_local(bib_style)[1],\n",
    "        htlatex_cfg=is_local(htlatex_cfg)[1],\n",
    "        md_files=' '.join(['{}.{}.md'.format(cite,key) for _, cite, key in cites]))\n",
    "    print(makefile)"
   ]
  },
  {
   "cell_type": "code",
   "execution_count": 50,
   "metadata": {},
   "outputs": [
    {
     "name": "stdout",
     "output_type": "stream",
     "text": [
      "{('\\\\cite{babiak.15.cav}', 'cite', 'babiak.15.cav'), ('\\\\mdcite{blahoudek.17.lpar}', 'mdcite', 'blahoudek.17.lpar'), ('\\\\mdcite{babiak.15.cav}', 'mdcite', 'babiak.15.cav')}\n",
      "default: all\n",
      "\n",
      "%.pdf : %.tex mypub.bib md.*bx\n",
      "\txelatex $(patsubst %.pdf,%.tex,$@) \n",
      "\tbiber $(patsubst %.pdf,%,$@) \n",
      "\txelatex $(patsubst %.pdf,%.tex,$@)\n",
      "\n",
      "%.html : %.pdf md.cfg\n",
      "\thtxelatex $(patsubst %.html,%.tex,$@) md.cfg \" -cunihtf -utf8\"\n",
      "\n",
      "### Removes silly link anchor produced by tex4ht for the firs entry\n",
      "%.md : %.html\n",
      "\tpandoc -f html+tex_math_dollars -t markdown $< | sed 's/\\[\\]{#page.1}\\[\\]{#X0-}//' > $@\n",
      "\n",
      "clean_mess:\n",
      "\tlatexmk -CA\n",
      "\trm -f *.4* *.bbl *.css *.html *.idv *.lg *.run.xml *.tmp *.xref *.xdv\n",
      "\n",
      "all: cite.babiak.15.cav.md mdcite.blahoudek.17.lpar.md mdcite.babiak.15.cav.md\n",
      "\n"
     ]
    }
   ],
   "source": [
    "bib_style = './md'\n",
    "cites = extract_cite_cmds(infile)\n",
    "\n",
    "pure_biblio = [is_local(b)[1] for b in bibliography]\n",
    "generete_tex(cites, build_dir, \n",
    "             pure_biblio, bib_style=bib_style)\n",
    "prepare_build_dir(build_dir, bibliography, cites, './md', \n",
    "                  './bib2md.latex', './md.cfg')"
   ]
  },
  {
   "cell_type": "code",
   "execution_count": 51,
   "metadata": {},
   "outputs": [],
   "source": [
    "build_dir_h.cleanup()"
   ]
  },
  {
   "cell_type": "code",
   "execution_count": null,
   "metadata": {},
   "outputs": [],
   "source": []
  }
 ],
 "metadata": {
  "kernelspec": {
   "display_name": "Python 3",
   "language": "python",
   "name": "python3"
  },
  "language_info": {
   "codemirror_mode": {
    "name": "ipython",
    "version": 3
   },
   "file_extension": ".py",
   "mimetype": "text/x-python",
   "name": "python",
   "nbconvert_exporter": "python",
   "pygments_lexer": "ipython3",
   "version": "3.6.7"
  }
 },
 "nbformat": 4,
 "nbformat_minor": 2
}
